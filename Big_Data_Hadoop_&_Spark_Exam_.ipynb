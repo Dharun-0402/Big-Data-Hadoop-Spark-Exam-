{
  "nbformat": 4,
  "nbformat_minor": 0,
  "metadata": {
    "colab": {
      "name": "Big Data Hadoop & Spark Exam .ipynb",
      "provenance": []
    },
    "kernelspec": {
      "name": "python3",
      "display_name": "Python 3"
    },
    "language_info": {
      "name": "python"
    }
  },
  "cells": [
    {
      "cell_type": "code",
      "execution_count": 1,
      "metadata": {
        "colab": {
          "base_uri": "https://localhost:8080/"
        },
        "id": "C16wkg46QGrW",
        "outputId": "03d4869d-72bd-4ce1-cb08-407620418adb"
      },
      "outputs": [
        {
          "output_type": "stream",
          "name": "stdout",
          "text": [
            "Looking in indexes: https://pypi.org/simple, https://us-python.pkg.dev/colab-wheels/public/simple/\n",
            "Collecting pyspark\n",
            "  Downloading pyspark-3.3.0.tar.gz (281.3 MB)\n",
            "\u001b[K     |████████████████████████████████| 281.3 MB 44 kB/s \n",
            "\u001b[?25hCollecting py4j==0.10.9.5\n",
            "  Downloading py4j-0.10.9.5-py2.py3-none-any.whl (199 kB)\n",
            "\u001b[K     |████████████████████████████████| 199 kB 64.2 MB/s \n",
            "\u001b[?25hBuilding wheels for collected packages: pyspark\n",
            "  Building wheel for pyspark (setup.py) ... \u001b[?25l\u001b[?25hdone\n",
            "  Created wheel for pyspark: filename=pyspark-3.3.0-py2.py3-none-any.whl size=281764026 sha256=17d91e7c5be5c0d3ae3284fd857c8ef5ff83a8fd9828b00a2f7a1fb9863bc14e\n",
            "  Stored in directory: /root/.cache/pip/wheels/7a/8e/1b/f73a52650d2e5f337708d9f6a1750d451a7349a867f928b885\n",
            "Successfully built pyspark\n",
            "Installing collected packages: py4j, pyspark\n",
            "Successfully installed py4j-0.10.9.5 pyspark-3.3.0\n"
          ]
        }
      ],
      "source": [
        "pip install pyspark"
      ]
    },
    {
      "cell_type": "code",
      "source": [
        "import pandas as pd\n",
        "import numpy as np\n",
        "from pyspark.sql import SparkSession"
      ],
      "metadata": {
        "id": "-fZnTca1wRga"
      },
      "execution_count": 2,
      "outputs": []
    },
    {
      "cell_type": "code",
      "source": [
        "spark=SparkSession.builder.appName('Questions').getOrCreate()"
      ],
      "metadata": {
        "id": "NsOxE0jKwc1T"
      },
      "execution_count": 3,
      "outputs": []
    },
    {
      "cell_type": "code",
      "source": [
        "spark"
      ],
      "metadata": {
        "colab": {
          "base_uri": "https://localhost:8080/",
          "height": 219
        },
        "id": "LDwKXXKtwftM",
        "outputId": "b1636b7e-62de-45da-c4b1-cbb5fb24c373"
      },
      "execution_count": 4,
      "outputs": [
        {
          "output_type": "execute_result",
          "data": {
            "text/plain": [
              "<pyspark.sql.session.SparkSession at 0x7f138f76f3d0>"
            ],
            "text/html": [
              "\n",
              "            <div>\n",
              "                <p><b>SparkSession - in-memory</b></p>\n",
              "                \n",
              "        <div>\n",
              "            <p><b>SparkContext</b></p>\n",
              "\n",
              "            <p><a href=\"http://fc72f516ab0f:4040\">Spark UI</a></p>\n",
              "\n",
              "            <dl>\n",
              "              <dt>Version</dt>\n",
              "                <dd><code>v3.3.0</code></dd>\n",
              "              <dt>Master</dt>\n",
              "                <dd><code>local[*]</code></dd>\n",
              "              <dt>AppName</dt>\n",
              "                <dd><code>Questions</code></dd>\n",
              "            </dl>\n",
              "        </div>\n",
              "        \n",
              "            </div>\n",
              "        "
            ]
          },
          "metadata": {},
          "execution_count": 4
        }
      ]
    },
    {
      "cell_type": "markdown",
      "source": [
        "# **1**.Read the given CSV file in a Hive table\n",
        "## Perform the following tasks using PySpark"
      ],
      "metadata": {
        "id": "btTs5FWIwsjp"
      }
    },
    {
      "cell_type": "markdown",
      "source": [
        "#2. Read the data from Hive table as spark dataframe "
      ],
      "metadata": {
        "id": "s31ynqZZxVwA"
      }
    },
    {
      "cell_type": "code",
      "source": [
        "data = spark.read.csv('/content/boston.csv',header='true', \n",
        "                      inferSchema='true')\n",
        "data.show(5)"
      ],
      "metadata": {
        "colab": {
          "base_uri": "https://localhost:8080/"
        },
        "id": "ihl7_4ywxdjE",
        "outputId": "b6277421-7293-4ac1-fa4a-27ef7634a000"
      },
      "execution_count": 6,
      "outputs": [
        {
          "output_type": "stream",
          "name": "stdout",
          "text": [
            "+-----------+----+-----------+----+-----------+-----------+-----------+-----------+---+---+-----------+-----------+-----------+-----------+\n",
            "|       CRIM|  ZN|      INDUS|CHAS|        NOX|         RM|        AGE|        DIS|RAD|TAX|         PT|          B|      LSTAT|         MV|\n",
            "+-----------+----+-----------+----+-----------+-----------+-----------+-----------+---+---+-----------+-----------+-----------+-----------+\n",
            "|    0.00632|18.0|2.309999943|   0|0.537999988|6.574999809|65.19999695|4.090000153|  1|296|15.30000019|396.8999939|4.980000019|       24.0|\n",
            "|0.027310001| 0.0|7.070000172|   0|0.469000012|6.421000004|78.90000153|4.967100143|  2|242|17.79999924|396.8999939|9.140000343|21.60000038|\n",
            "|    0.02729| 0.0|7.070000172|   0|0.469000012|7.184999943|61.09999847|4.967100143|  2|242|17.79999924|392.8299866| 4.03000021|34.70000076|\n",
            "|0.032370001| 0.0|2.180000067|   0|0.458000004|6.998000145|45.79999924|6.062200069|  3|222|18.70000076|394.6300049|2.940000057|33.40000153|\n",
            "|0.069049999| 0.0|2.180000067|   0|0.458000004|7.146999836|54.20000076|6.062200069|  3|222|18.70000076|396.8999939|5.329999924|36.20000076|\n",
            "+-----------+----+-----------+----+-----------+-----------+-----------+-----------+---+---+-----------+-----------+-----------+-----------+\n",
            "only showing top 5 rows\n",
            "\n"
          ]
        }
      ]
    },
    {
      "cell_type": "markdown",
      "source": [
        "## 3.Get the correlation between dependent and independent variables"
      ],
      "metadata": {
        "id": "jP5zbJQ3x9Bd"
      }
    },
    {
      "cell_type": "code",
      "source": [
        "import six\n",
        "for i in data.columns:\n",
        "    if not( isinstance(data.select(i).take(1)[0][0], six.string_types)):\n",
        "        print( \"Correlation to MV for \", i, data.stat.corr('MV',i))"
      ],
      "metadata": {
        "colab": {
          "base_uri": "https://localhost:8080/"
        },
        "id": "XBnQDyoXxHFB",
        "outputId": "df9b460f-a5cb-42be-aaca-6cc9da1332d6"
      },
      "execution_count": 7,
      "outputs": [
        {
          "output_type": "stream",
          "name": "stdout",
          "text": [
            "Correlation to MV for  CRIM -0.3883046116575088\n",
            "Correlation to MV for  ZN 0.36044534463752903\n",
            "Correlation to MV for  INDUS -0.48372517128143383\n",
            "Correlation to MV for  CHAS 0.17526017775291847\n",
            "Correlation to MV for  NOX -0.4273207763683772\n",
            "Correlation to MV for  RM 0.695359937127267\n",
            "Correlation to MV for  AGE -0.37695456714288667\n",
            "Correlation to MV for  DIS 0.24992873873512172\n",
            "Correlation to MV for  RAD -0.3816262315669168\n",
            "Correlation to MV for  TAX -0.46853593528654536\n",
            "Correlation to MV for  PT -0.5077867038116085\n",
            "Correlation to MV for  B 0.3334608226834164\n",
            "Correlation to MV for  LSTAT -0.7376627294671615\n",
            "Correlation to MV for  MV 1.0\n"
          ]
        }
      ]
    },
    {
      "cell_type": "code",
      "source": [
        "from pyspark.ml.feature import VectorAssembler\n",
        "vectorAssembler = VectorAssembler(inputCols = ['CRIM', 'ZN', 'INDUS', 'CHAS', 'NOX', 'RM', 'AGE', 'DIS', 'RAD', 'TAX', 'PT', 'B', 'LSTAT'], outputCol = 'features')\n"
      ],
      "metadata": {
        "id": "izT4_wx8yJFE"
      },
      "execution_count": 8,
      "outputs": []
    },
    {
      "cell_type": "code",
      "source": [
        "vhouse_df = vectorAssembler.transform(data)"
      ],
      "metadata": {
        "id": "o91tahkKyN5k"
      },
      "execution_count": 9,
      "outputs": []
    },
    {
      "cell_type": "code",
      "source": [
        "vhouse_df =vhouse_df.select(['features', 'MV'])\n",
        "vhouse_df.show(3)"
      ],
      "metadata": {
        "id": "drywpNuCyQ4Y",
        "outputId": "3c99233a-c1bf-4a35-8233-c5551a04dba4",
        "colab": {
          "base_uri": "https://localhost:8080/"
        }
      },
      "execution_count": 11,
      "outputs": [
        {
          "output_type": "stream",
          "name": "stdout",
          "text": [
            "+--------------------+-----------+\n",
            "|            features|         MV|\n",
            "+--------------------+-----------+\n",
            "|[0.00632,18.0,2.3...|       24.0|\n",
            "|[0.027310001,0.0,...|21.60000038|\n",
            "|[0.02729,0.0,7.07...|34.70000076|\n",
            "+--------------------+-----------+\n",
            "only showing top 3 rows\n",
            "\n"
          ]
        }
      ]
    },
    {
      "cell_type": "markdown",
      "source": [
        "## 4.Build a linear regression model to predict house price "
      ],
      "metadata": {
        "id": "UfcrRUshyZg4"
      }
    },
    {
      "cell_type": "code",
      "source": [
        "splits = vhouse_df.randomSplit([0.7, 0.3])\n",
        "train_df = splits[0]\n",
        "test_df = splits[1]"
      ],
      "metadata": {
        "id": "BMSuaC-6yUIn"
      },
      "execution_count": 12,
      "outputs": []
    },
    {
      "cell_type": "code",
      "source": [
        "from pyspark.ml.regression import LinearRegression\n",
        "lr = LinearRegression(featuresCol = 'features', labelCol='MV', maxIter=10, regParam=0.3, elasticNetParam=0.8)\n",
        "lr_model = lr.fit(train_df)\n",
        "print(\"Coefficients: \" + str(lr_model.coefficients))\n",
        "print(\"Intercept: \" + str(lr_model.intercept))"
      ],
      "metadata": {
        "id": "8XX5zXqbygNT",
        "outputId": "29d550b5-7312-4b0c-b35d-150ad29acdc7",
        "colab": {
          "base_uri": "https://localhost:8080/"
        }
      },
      "execution_count": 13,
      "outputs": [
        {
          "output_type": "stream",
          "name": "stdout",
          "text": [
            "Coefficients: [-0.007903775587140805,0.01073788093124137,-0.007186843552412929,1.979217890324662,-6.237654838894437,4.2770957357925505,0.0,-0.6217534450049654,0.0,0.0,-0.8831886324952014,0.005753997826681718,-0.6077237761500195]\n",
            "Intercept: 23.24246112480068\n"
          ]
        }
      ]
    },
    {
      "cell_type": "markdown",
      "source": [
        "##5. Evaluate the Linear Regression model by getting the RMSE and R-squared values"
      ],
      "metadata": {
        "id": "cm26whAFyqFW"
      }
    },
    {
      "cell_type": "code",
      "source": [
        "trainingSummary = lr_model.summary\n",
        "print(\"RMSE: %f\" % trainingSummary.rootMeanSquaredError)\n",
        "print(\"r2: %f\" % trainingSummary.r2)"
      ],
      "metadata": {
        "id": "jkkYoBmkynI5",
        "outputId": "ecca95a4-3c6f-402b-936c-e95771c64a53",
        "colab": {
          "base_uri": "https://localhost:8080/"
        }
      },
      "execution_count": 14,
      "outputs": [
        {
          "output_type": "stream",
          "name": "stdout",
          "text": [
            "RMSE: 5.007570\n",
            "r2: 0.726474\n"
          ]
        }
      ]
    },
    {
      "cell_type": "code",
      "source": [
        "train_df.describe().show()"
      ],
      "metadata": {
        "id": "RrR-cfHFyjhD",
        "outputId": "d8500523-8088-4772-ee02-52dc20dbbe3e",
        "colab": {
          "base_uri": "https://localhost:8080/"
        }
      },
      "execution_count": 15,
      "outputs": [
        {
          "output_type": "stream",
          "name": "stdout",
          "text": [
            "+-------+------------------+\n",
            "|summary|                MV|\n",
            "+-------+------------------+\n",
            "|  count|               361|\n",
            "|   mean|22.597229964110802|\n",
            "| stddev| 9.588050635682276|\n",
            "|    min|               5.0|\n",
            "|    max|              50.0|\n",
            "+-------+------------------+\n",
            "\n"
          ]
        }
      ]
    },
    {
      "cell_type": "code",
      "source": [
        "lr_predictions = lr_model.transform(test_df)\n",
        "lr_predictions.select(\"prediction\",\"MV\",\"features\").show(5)\n",
        "from pyspark.ml.evaluation import RegressionEvaluator\n",
        "lr_evaluator = RegressionEvaluator(predictionCol=\"prediction\", \\\n",
        "                 labelCol=\"MV\",metricName=\"r2\")\n",
        "print(\"R Squared (R2) on test data = %g\" % lr_evaluator.evaluate(lr_predictions))"
      ],
      "metadata": {
        "id": "tDyLMNywyyu1",
        "outputId": "df7406a2-abeb-4d6e-ed27-456b983b7c98",
        "colab": {
          "base_uri": "https://localhost:8080/"
        }
      },
      "execution_count": 16,
      "outputs": [
        {
          "output_type": "stream",
          "name": "stdout",
          "text": [
            "+------------------+-----------+--------------------+\n",
            "|        prediction|         MV|            features|\n",
            "+------------------+-----------+--------------------+\n",
            "| 31.38667619429801|       24.0|[0.00632,18.0,2.3...|\n",
            "| 28.20396528417091|       22.0|[0.01096,55.0,2.2...|\n",
            "|30.829703073981793|35.40000153|[0.01311,90.0,1.2...|\n",
            "| 39.38154610188929|       50.0|[0.01381,80.0,0.4...|\n",
            "| 32.24377294115004|31.60000038|[0.01432,100.0,1....|\n",
            "+------------------+-----------+--------------------+\n",
            "only showing top 5 rows\n",
            "\n",
            "R Squared (R2) on test data = 0.670419\n"
          ]
        }
      ]
    },
    {
      "cell_type": "code",
      "source": [
        "test_result = lr_model.evaluate(test_df)\n",
        "print(\"Root Mean Squared Error (RMSE) on test data = %g\" % test_result.rootMeanSquaredError)"
      ],
      "metadata": {
        "id": "B0JXJMjry0MN",
        "outputId": "1df4bd47-787c-43a8-9422-201a95e34af6",
        "colab": {
          "base_uri": "https://localhost:8080/"
        }
      },
      "execution_count": 17,
      "outputs": [
        {
          "output_type": "stream",
          "name": "stdout",
          "text": [
            "Root Mean Squared Error (RMSE) on test data = 4.67514\n"
          ]
        }
      ]
    },
    {
      "cell_type": "code",
      "source": [
        "print(\"numIterations: %d\" % trainingSummary.totalIterations)\n",
        "print(\"objectiveHistory: %s\" % str(trainingSummary.objectiveHistory))\n",
        "trainingSummary.residuals.show()"
      ],
      "metadata": {
        "id": "gMNCSboAy1wp",
        "outputId": "f82d4649-5e10-42a7-cd03-5a1edae4e962",
        "colab": {
          "base_uri": "https://localhost:8080/"
        }
      },
      "execution_count": 18,
      "outputs": [
        {
          "output_type": "stream",
          "name": "stdout",
          "text": [
            "numIterations: 10\n",
            "objectiveHistory: [0.5, 0.431705373757803, 0.23159383442447737, 0.2084557833847855, 0.17784943893076097, 0.1737457924079901, 0.17274542528740153, 0.1715364747720391, 0.17122945848759194, 0.17111183937441043, 0.1710329096042634]\n",
            "+--------------------+\n",
            "|           residuals|\n",
            "+--------------------+\n",
            "|  0.7470938546778001|\n",
            "|0.009665815115333487|\n",
            "|  2.1518303366220444|\n",
            "| -2.3711034878181287|\n",
            "|  -3.659163959047092|\n",
            "|   7.749567984390531|\n",
            "|   8.043578554087084|\n",
            "|   2.763395139128928|\n",
            "|  0.9106866599170829|\n",
            "| -0.6159184014613395|\n",
            "|   9.658186666968348|\n",
            "| -1.9785735577361336|\n",
            "|   4.722623890846222|\n",
            "| -0.9102540877629828|\n",
            "| -10.517634140318517|\n",
            "|  -4.338318139805644|\n",
            "|  2.7009465599460114|\n",
            "|  1.1053039891362246|\n",
            "| -2.2587716128617252|\n",
            "| 0.13605473790860856|\n",
            "+--------------------+\n",
            "only showing top 20 rows\n",
            "\n"
          ]
        }
      ]
    },
    {
      "cell_type": "code",
      "source": [
        "predictions = lr_model.transform(test_df)\n",
        "predictions.select(\"prediction\",\"MV\",\"features\").show()"
      ],
      "metadata": {
        "id": "vgfFyyLRy3V6",
        "outputId": "4829171e-73b7-4323-eccd-42eebb77c4e3",
        "colab": {
          "base_uri": "https://localhost:8080/"
        }
      },
      "execution_count": 19,
      "outputs": [
        {
          "output_type": "stream",
          "name": "stdout",
          "text": [
            "+------------------+-----------+--------------------+\n",
            "|        prediction|         MV|            features|\n",
            "+------------------+-----------+--------------------+\n",
            "| 31.38667619429801|       24.0|[0.00632,18.0,2.3...|\n",
            "| 28.20396528417091|       22.0|[0.01096,55.0,2.2...|\n",
            "|30.829703073981793|35.40000153|[0.01311,90.0,1.2...|\n",
            "| 39.38154610188929|       50.0|[0.01381,80.0,0.4...|\n",
            "| 32.24377294115004|31.60000038|[0.01432,100.0,1....|\n",
            "|26.595798375381804|23.10000038|[0.0187,85.0,4.15...|\n",
            "|26.418148891492514|       33.0|[0.019509999,17.5...|\n",
            "| 25.64930339693282|21.60000038|[0.027310001,0.0,...|\n",
            "| 20.40928624447486|       17.5|[0.031129999,0.0,...|\n",
            "| 30.49997897616508|33.40000153|[0.032370001,0.0,...|\n",
            "|28.749409996096716|24.10000038|[0.034449998,82.5...|\n",
            "|24.909299632952173|19.39999962|[0.03466,35.0,6.0...|\n",
            "| 24.74055528109508|22.89999962|[0.03551,25.0,4.8...|\n",
            "|29.612965577396395|       23.5|[0.035840001,80.0...|\n",
            "| 25.83407760604879|24.79999924|[0.036589999,25.0...|\n",
            "|21.667386040068422|21.10000038|[0.039609998,0.0,...|\n",
            "|28.520853122910786|       28.0|[0.041129999,25.0...|\n",
            "|17.031075424013416|18.20000076|[0.04301,80.0,1.9...|\n",
            "| 31.49249783986123|24.79999924|[0.04417,70.0,2.2...|\n",
            "|26.878683708563816|23.89999962|[0.04462,25.0,4.8...|\n",
            "+------------------+-----------+--------------------+\n",
            "only showing top 20 rows\n",
            "\n"
          ]
        }
      ]
    },
    {
      "cell_type": "code",
      "source": [
        "from pyspark.ml.regression import DecisionTreeRegressor\n",
        "dt = DecisionTreeRegressor(featuresCol ='features', labelCol = 'MV')\n",
        "dt_model = dt.fit(train_df)\n",
        "dt_predictions = dt_model.transform(test_df)\n",
        "dt_evaluator = RegressionEvaluator(\n",
        "    labelCol=\"MV\", predictionCol=\"prediction\", metricName=\"rmse\")\n",
        "rmse = dt_evaluator.evaluate(dt_predictions)\n",
        "print(\"Root Mean Squared Error (RMSE) on test data = %g\" % rmse)"
      ],
      "metadata": {
        "id": "ugRZCntHy4oM",
        "outputId": "2ccbf04b-db03-4956-ca8d-2acb8b5963a4",
        "colab": {
          "base_uri": "https://localhost:8080/"
        }
      },
      "execution_count": 20,
      "outputs": [
        {
          "output_type": "stream",
          "name": "stdout",
          "text": [
            "Root Mean Squared Error (RMSE) on test data = 4.89641\n"
          ]
        }
      ]
    },
    {
      "cell_type": "code",
      "source": [
        ""
      ],
      "metadata": {
        "id": "Dwe2EKH2y6VP"
      },
      "execution_count": null,
      "outputs": []
    }
  ]
}